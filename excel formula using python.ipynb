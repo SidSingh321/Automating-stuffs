{
 "cells": [
  {
   "cell_type": "code",
   "execution_count": 3,
   "metadata": {},
   "outputs": [],
   "source": [
    "from openpyxl import load_workbook\n",
    "from openpyxl.utils import get_column_letter\n",
    "\n",
    "workbook = load_workbook('barchart.xlsx')\n",
    "sheet_name = workbook['Details']\n",
    "\n",
    "min_column = workbook.active.min_column\n",
    "max_column = workbook.active.max_column\n",
    "min_row = workbook.active.min_row\n",
    "max_row = workbook.active.max_row\n",
    "\n",
    "# Write an Excel formula with Python\n",
    "# sheet['B5'] = '=SUM(B3:B4)'\n",
    "# sheet['B5'].style = 'Currency'\n",
    "\n",
    "# Write multiple formulas with a for loop\n",
    "for i in range(min_column+1, max_column+1):  # (B, G+1)\n",
    "    letter = get_column_letter(i)\n",
    "    sheet_name[f'{letter}{max_row + 1}'] = f'=SUM({letter}{min_row + 1}:{letter}{max_row})'\n",
    "    sheet_name[f'{letter}{max_row + 1}'].style = 'Currency'\n",
    "\n",
    "workbook.save('report.xlsx')"
   ]
  },
  {
   "cell_type": "code",
   "execution_count": null,
   "metadata": {},
   "outputs": [],
   "source": []
  }
 ],
 "metadata": {
  "kernelspec": {
   "display_name": "Python 3",
   "language": "python",
   "name": "python3"
  },
  "language_info": {
   "codemirror_mode": {
    "name": "ipython",
    "version": 3
   },
   "file_extension": ".py",
   "mimetype": "text/x-python",
   "name": "python",
   "nbconvert_exporter": "python",
   "pygments_lexer": "ipython3",
   "version": "3.8.5"
  }
 },
 "nbformat": 4,
 "nbformat_minor": 4
}
