{
 "cells": [
  {
   "cell_type": "code",
   "execution_count": 1,
   "metadata": {},
   "outputs": [],
   "source": [
    "from openpyxl import load_workbook"
   ]
  },
  {
   "cell_type": "code",
   "execution_count": 9,
   "metadata": {},
   "outputs": [],
   "source": [
    "from openpyxl.chart import BarChart, Reference"
   ]
  },
  {
   "cell_type": "code",
   "execution_count": 3,
   "metadata": {},
   "outputs": [],
   "source": [
    "# Reading workbook and select sheet\n",
    "workbook = load_workbook(r'C:\\Users\\Siddharth\\Desktop\\pivot_table.xlsx')\n",
    "sheet_name = workbook['Details']"
   ]
  },
  {
   "cell_type": "code",
   "execution_count": 4,
   "metadata": {},
   "outputs": [],
   "source": [
    "# Active rows and columns\n",
    "min_column = workbook.active.min_column\n",
    "max_column = workbook.active.max_column\n",
    "min_row = workbook.active.min_row\n",
    "max_row = workbook.active.max_row"
   ]
  },
  {
   "cell_type": "code",
   "execution_count": 14,
   "metadata": {},
   "outputs": [],
   "source": [
    "# Instantiate a barchart\n",
    "barchart = BarChart()\n",
    "\n",
    "# Locating data and categories\n",
    "data = Reference(sheet_name, min_col = min_column+1, max_col = max_column, min_row = min_row, max_row = max_row)\n",
    "\n",
    "categories = Reference(sheet_name, min_col=min_column, max_col=min_column, min_row=min_row+1, max_row=max_row)  # not including headers"
   ]
  },
  {
   "cell_type": "code",
   "execution_count": null,
   "metadata": {},
   "outputs": [],
   "source": [
    "# Adding data and categories\n",
    "barchart.add_data(data, titles_from_data=True)\n",
    "barchart.set_categories(categories)\n",
    "\n",
    "# Make chart\n",
    "sheet_name.add_chart(barchart, \"B12\")\n",
    "barchart.title = 'Sales by Product line'\n",
    "barchart.style = 5  # choose the chart style\n",
    "\n",
    "# Save workbook\n",
    "workbook.save('barchart.xlsx')"
   ]
  }
 ],
 "metadata": {
  "kernelspec": {
   "display_name": "Python 3",
   "language": "python",
   "name": "python3"
  },
  "language_info": {
   "codemirror_mode": {
    "name": "ipython",
    "version": 3
   },
   "file_extension": ".py",
   "mimetype": "text/x-python",
   "name": "python",
   "nbconvert_exporter": "python",
   "pygments_lexer": "ipython3",
   "version": "3.8.5"
  }
 },
 "nbformat": 4,
 "nbformat_minor": 4
}
