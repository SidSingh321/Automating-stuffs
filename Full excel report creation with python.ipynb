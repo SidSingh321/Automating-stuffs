{
 "cells": [
  {
   "cell_type": "code",
   "execution_count": 8,
   "metadata": {},
   "outputs": [],
   "source": [
    "from openpyxl import load_workbook\n",
    "from openpyxl.chart import BarChart, Reference\n",
    "from openpyxl.utils import get_column_letter\n",
    "from openpyxl.styles import Font\n",
    "\n",
    "# Putting together #2, #3, and #4 (input: pivot_table.xlsx + month , output: Report with barchart, formulas and format)\n",
    "month = 'february'\n",
    "\n",
    "# Read workbook and select sheet\n",
    "workbook = load_workbook('pivot_table.xlsx')\n",
    "sheet_name = workbook['Details']\n",
    "\n",
    "# Active rows and columns\n",
    "min_column = workbook.active.min_column\n",
    "max_column = workbook.active.max_column\n",
    "min_row = workbook.active.min_row\n",
    "max_row = workbook.active.max_row\n",
    "\n",
    "# Instantiate a barchart\n",
    "barchart = BarChart()\n",
    "\n",
    "# Locate data and categories\n",
    "data = Reference(sheet_name, min_col=min_column+1, max_col=max_column, min_row=min_row, max_row=max_row)  # including headers\n",
    "categories = Reference(sheet_name, min_col=min_column, max_col=min_column, min_row=min_row+1, max_row=max_row)  # not including headers\n",
    "\n",
    "# Adding data and categories\n",
    "barchart.add_data(data, titles_from_data=True)\n",
    "barchart.set_categories(categories)\n",
    "\n",
    "# Making chart\n",
    "sheet_name.add_chart(barchart, \"B12\")\n",
    "barchart.title = 'Sales by Product line'\n",
    "barchart.style = 4  # choose the chart style\n",
    "\n",
    "# Writing multiple formulas with a for loop\n",
    "for i in range(min_column+1, max_column+1):  # (B, G+1)\n",
    "    letter = get_column_letter(i)\n",
    "    sheet_name[f'{letter}{max_row + 1}'] = f'=SUM({letter}{min_row + 1}:{letter}{max_row})'\n",
    "    sheet_name[f'{letter}{max_row + 1}'].style = 'Currency'\n",
    "\n",
    "# Adding format\n",
    "sheet_name['A1'] = 'Final Sales Report'\n",
    "sheet_name['B1'] = month\n",
    "sheet_name['A1'].font = Font('Arial', bold=True, size=20)\n",
    "sheet_name['B1'].font = Font('Arial', bold=True, size=20)\n",
    "\n",
    "workbook.save(f'data_{month}.xlsx')"
   ]
  },
  {
   "cell_type": "code",
   "execution_count": null,
   "metadata": {},
   "outputs": [],
   "source": []
  }
 ],
 "metadata": {
  "kernelspec": {
   "display_name": "Python 3",
   "language": "python",
   "name": "python3"
  },
  "language_info": {
   "codemirror_mode": {
    "name": "ipython",
    "version": 3
   },
   "file_extension": ".py",
   "mimetype": "text/x-python",
   "name": "python",
   "nbconvert_exporter": "python",
   "pygments_lexer": "ipython3",
   "version": "3.8.5"
  }
 },
 "nbformat": 4,
 "nbformat_minor": 4
}
