{
 "cells": [
  {
   "cell_type": "code",
   "execution_count": 17,
   "metadata": {},
   "outputs": [
    {
     "name": "stdout",
     "output_type": "stream",
     "text": [
      "Requirement already satisfied: tk in c:\\users\\siddharth\\anaconda3\\lib\\site-packages (0.1.0)\n",
      "Requirement already satisfied: ghostscript in c:\\users\\siddharth\\anaconda3\\lib\\site-packages (0.7)\n",
      "Requirement already satisfied: setuptools>=38.6.0 in c:\\users\\siddharth\\anaconda3\\lib\\site-packages (from ghostscript) (50.3.1.post20201107)\n"
     ]
    }
   ],
   "source": [
    "!pip install tk\n",
    "!pip install ghostscript"
   ]
  },
  {
   "cell_type": "code",
   "execution_count": 2,
   "metadata": {},
   "outputs": [
    {
     "name": "stdout",
     "output_type": "stream",
     "text": [
      "Found existing installation: Camelot 12.6.29\n",
      "Uninstalling Camelot-12.6.29:\n",
      "  Successfully uninstalled Camelot-12.6.29\n"
     ]
    }
   ],
   "source": [
    "!python -m pip uninstall camelot --yes"
   ]
  },
  {
   "cell_type": "code",
   "execution_count": 1,
   "metadata": {},
   "outputs": [],
   "source": [
    "import camelot.io as camelot"
   ]
  },
  {
   "cell_type": "code",
   "execution_count": 2,
   "metadata": {},
   "outputs": [
    {
     "name": "stdout",
     "output_type": "stream",
     "text": [
      "<TableList n=1>\n"
     ]
    }
   ],
   "source": [
    "data = camelot.read_pdf(r\"C:\\Users\\Siddharth\\Desktop\\saving.pdf\", pages='1')\n",
    "print(data)"
   ]
  },
  {
   "cell_type": "code",
   "execution_count": 3,
   "metadata": {},
   "outputs": [],
   "source": [
    "data.export('saving.csv', f='csv', compress=True)\n",
    "data[0].to_csv('saving.csv') # to a csv file"
   ]
  },
  {
   "cell_type": "code",
   "execution_count": 5,
   "metadata": {},
   "outputs": [
    {
     "name": "stdout",
     "output_type": "stream",
     "text": [
      "              0            1                2                     3  \\\n",
      "0  Cycle \\nName  KI \\n(1/km)  Distance \\n(mi)  Percent Fuel Savings   \n",
      "1                                                  Improved \\nSpeed   \n",
      "2        2012_2         3.30              1.3                  5.9%   \n",
      "3        2145_1         0.68             11.2                  2.4%   \n",
      "4        4234_1         0.59             58.7                  8.5%   \n",
      "5        2032_2         0.17             57.8                 21.7%   \n",
      "6        4171_1         0.07            173.9                 58.1%   \n",
      "\n",
      "                   4                  5                 6  \n",
      "0                                                          \n",
      "1  Decreased \\nAccel  Eliminate \\nStops  Decreased \\nIdle  \n",
      "2               9.5%              29.2%             17.4%  \n",
      "3               0.1%               9.5%              2.7%  \n",
      "4               1.3%               8.5%              3.3%  \n",
      "5               0.3%               2.7%              1.2%  \n",
      "6               1.6%               2.1%              0.5%  \n"
     ]
    }
   ],
   "source": [
    "print(data[0].df)  # to a df"
   ]
  },
  {
   "cell_type": "code",
   "execution_count": null,
   "metadata": {},
   "outputs": [],
   "source": []
  }
 ],
 "metadata": {
  "kernelspec": {
   "display_name": "Python 3",
   "language": "python",
   "name": "python3"
  },
  "language_info": {
   "codemirror_mode": {
    "name": "ipython",
    "version": 3
   },
   "file_extension": ".py",
   "mimetype": "text/x-python",
   "name": "python",
   "nbconvert_exporter": "python",
   "pygments_lexer": "ipython3",
   "version": "3.8.5"
  }
 },
 "nbformat": 4,
 "nbformat_minor": 4
}
