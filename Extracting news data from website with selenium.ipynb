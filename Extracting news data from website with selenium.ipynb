{
 "cells": [
  {
   "cell_type": "code",
   "execution_count": 1,
   "metadata": {},
   "outputs": [],
   "source": [
    "from selenium import webdriver"
   ]
  },
  {
   "cell_type": "code",
   "execution_count": 4,
   "metadata": {},
   "outputs": [],
   "source": [
    "import pandas as pd"
   ]
  },
  {
   "cell_type": "code",
   "execution_count": 2,
   "metadata": {},
   "outputs": [],
   "source": [
    "from selenium.webdriver.chrome.service import Service"
   ]
  },
  {
   "cell_type": "code",
   "execution_count": 7,
   "metadata": {},
   "outputs": [],
   "source": [
    "website = \"https://www.thesun.co.uk/sport/football/\"\n",
    "path = r\"C:\\Users\\Siddharth\\Desktop\\chromedriver_win32\\chromedriver\"\n",
    "\n",
    "## Creating the driver\n",
    "service = Service(executable_path=path)\n",
    "driver = webdriver.Chrome(service=service)\n",
    "driver.get(website)"
   ]
  },
  {
   "cell_type": "code",
   "execution_count": 8,
   "metadata": {},
   "outputs": [],
   "source": [
    "## Finding Elements\n",
    "\n",
    "containers = driver.find_elements(by='xpath', value='//div[@class=\"teaser__copy-container\"]')\n",
    "\n",
    "titles = []\n",
    "subtitles = []\n",
    "links = []\n",
    "\n",
    "for container in containers:\n",
    "    title = container.find_element(by='xpath', value='./a/h2').text\n",
    "    subtitle = container.find_element(by='xpath', value='./a/p').text\n",
    "    link = container.find_element(by='xpath', value='./a').get_attribute(\"href\")\n",
    "    titles.append(title)\n",
    "    subtitles.append(subtitle)\n",
    "    links.append(link)\n",
    "\n",
    "# Exporting data to a CSV file\n",
    "my_dict = {'title': titles, 'subtitle': subtitles, 'link': links}\n",
    "df = pd.DataFrame(my_dict)\n",
    "df.to_csv('extracted_data.csv')\n",
    "\n",
    "driver.quit()"
   ]
  },
  {
   "cell_type": "code",
   "execution_count": null,
   "metadata": {},
   "outputs": [],
   "source": []
  }
 ],
 "metadata": {
  "kernelspec": {
   "display_name": "Python 3",
   "language": "python",
   "name": "python3"
  },
  "language_info": {
   "codemirror_mode": {
    "name": "ipython",
    "version": 3
   },
   "file_extension": ".py",
   "mimetype": "text/x-python",
   "name": "python",
   "nbconvert_exporter": "python",
   "pygments_lexer": "ipython3",
   "version": "3.8.5"
  }
 },
 "nbformat": 4,
 "nbformat_minor": 4
}
